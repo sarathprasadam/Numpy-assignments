{
 "cells": [
  {
   "cell_type": "code",
   "execution_count": 1,
   "id": "7728481a",
   "metadata": {},
   "outputs": [],
   "source": [
    "import numpy as np"
   ]
  },
  {
   "cell_type": "markdown",
   "id": "3c15cdf5",
   "metadata": {},
   "source": [
    "# Insert 1 to 100 numbers in a numpy array and reshape it to 10*10 matrix.\n"
   ]
  },
  {
   "cell_type": "code",
   "execution_count": 4,
   "id": "bbf6bedd",
   "metadata": {},
   "outputs": [
    {
     "data": {
      "text/plain": [
       "array([[67, 84],\n",
       "       [ 5, 90],\n",
       "       [ 8, 83],\n",
       "       [63, 48],\n",
       "       [85, 60],\n",
       "       [49, 74],\n",
       "       [27, 13],\n",
       "       [ 9, 61],\n",
       "       [15, 93],\n",
       "       [98, 59],\n",
       "       [18, 14],\n",
       "       [93, 56],\n",
       "       [ 9, 51],\n",
       "       [68, 53],\n",
       "       [53, 71],\n",
       "       [59, 42],\n",
       "       [26, 66],\n",
       "       [ 9, 81],\n",
       "       [15, 92],\n",
       "       [91, 63],\n",
       "       [86, 31],\n",
       "       [20, 45],\n",
       "       [21, 72],\n",
       "       [92, 28],\n",
       "       [95, 47],\n",
       "       [10, 64],\n",
       "       [ 7, 45],\n",
       "       [ 2, 38],\n",
       "       [71, 95],\n",
       "       [36, 89],\n",
       "       [60, 91],\n",
       "       [68, 37],\n",
       "       [66, 82],\n",
       "       [38, 54],\n",
       "       [86, 39],\n",
       "       [46,  6],\n",
       "       [95, 32],\n",
       "       [73, 98],\n",
       "       [ 7,  9],\n",
       "       [98, 42],\n",
       "       [19, 59],\n",
       "       [48,  9],\n",
       "       [16, 78],\n",
       "       [55, 55],\n",
       "       [20, 98],\n",
       "       [87, 98],\n",
       "       [24,  6],\n",
       "       [28,  5],\n",
       "       [66, 19],\n",
       "       [99, 75]])"
      ]
     },
     "execution_count": 4,
     "metadata": {},
     "output_type": "execute_result"
    }
   ],
   "source": [
    "np.random.seed(8)\n",
    "sk=np.random.randint(0,100,(50,2))\n",
    "sk"
   ]
  },
  {
   "cell_type": "code",
   "execution_count": 5,
   "id": "fe07a354",
   "metadata": {},
   "outputs": [
    {
     "data": {
      "text/plain": [
       "array([[67, 84,  5, 90,  8, 83, 63, 48, 85, 60],\n",
       "       [49, 74, 27, 13,  9, 61, 15, 93, 98, 59],\n",
       "       [18, 14, 93, 56,  9, 51, 68, 53, 53, 71],\n",
       "       [59, 42, 26, 66,  9, 81, 15, 92, 91, 63],\n",
       "       [86, 31, 20, 45, 21, 72, 92, 28, 95, 47],\n",
       "       [10, 64,  7, 45,  2, 38, 71, 95, 36, 89],\n",
       "       [60, 91, 68, 37, 66, 82, 38, 54, 86, 39],\n",
       "       [46,  6, 95, 32, 73, 98,  7,  9, 98, 42],\n",
       "       [19, 59, 48,  9, 16, 78, 55, 55, 20, 98],\n",
       "       [87, 98, 24,  6, 28,  5, 66, 19, 99, 75]])"
      ]
     },
     "execution_count": 5,
     "metadata": {},
     "output_type": "execute_result"
    }
   ],
   "source": [
    "np.reshape(sk,(10,10))"
   ]
  },
  {
   "cell_type": "code",
   "execution_count": null,
   "id": "b822abb7",
   "metadata": {},
   "outputs": [],
   "source": []
  }
 ],
 "metadata": {
  "kernelspec": {
   "display_name": "Python 3",
   "language": "python",
   "name": "python3"
  },
  "language_info": {
   "codemirror_mode": {
    "name": "ipython",
    "version": 3
   },
   "file_extension": ".py",
   "mimetype": "text/x-python",
   "name": "python",
   "nbconvert_exporter": "python",
   "pygments_lexer": "ipython3",
   "version": "3.9.5"
  }
 },
 "nbformat": 4,
 "nbformat_minor": 5
}
