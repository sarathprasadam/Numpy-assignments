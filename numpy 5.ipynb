{
 "cells": [
  {
   "cell_type": "markdown",
   "id": "0507e16f",
   "metadata": {},
   "source": [
    "# Find Dot product of two arrays\n",
    "\n",
    "f = np.array([1,2])\n",
    "\n",
    "g = np.array([4,5])"
   ]
  },
  {
   "cell_type": "code",
   "execution_count": 1,
   "id": "5bea4e1e",
   "metadata": {},
   "outputs": [],
   "source": [
    "import numpy as np"
   ]
  },
  {
   "cell_type": "code",
   "execution_count": 5,
   "id": "c131d3d9",
   "metadata": {},
   "outputs": [],
   "source": [
    "f=np.array([1,2])\n",
    "g=np.array([4,5])"
   ]
  },
  {
   "cell_type": "code",
   "execution_count": 6,
   "id": "0cb080f7",
   "metadata": {},
   "outputs": [
    {
     "data": {
      "text/plain": [
       "14"
      ]
     },
     "execution_count": 6,
     "metadata": {},
     "output_type": "execute_result"
    }
   ],
   "source": [
    "np.dot(f,g)"
   ]
  },
  {
   "cell_type": "code",
   "execution_count": null,
   "id": "6226383f",
   "metadata": {},
   "outputs": [],
   "source": []
  }
 ],
 "metadata": {
  "kernelspec": {
   "display_name": "Python 3",
   "language": "python",
   "name": "python3"
  },
  "language_info": {
   "codemirror_mode": {
    "name": "ipython",
    "version": 3
   },
   "file_extension": ".py",
   "mimetype": "text/x-python",
   "name": "python",
   "nbconvert_exporter": "python",
   "pygments_lexer": "ipython3",
   "version": "3.9.5"
  }
 },
 "nbformat": 4,
 "nbformat_minor": 5
}
