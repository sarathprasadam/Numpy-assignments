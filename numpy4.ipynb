{
 "cells": [
  {
   "cell_type": "markdown",
   "id": "349f62a5",
   "metadata": {},
   "source": [
    "# Create a 10x10 array with random values and find the minimum and maximum values."
   ]
  },
  {
   "cell_type": "code",
   "execution_count": 1,
   "id": "73f6a48c",
   "metadata": {},
   "outputs": [],
   "source": [
    "import numpy as np"
   ]
  },
  {
   "cell_type": "code",
   "execution_count": 6,
   "id": "5c4c3d66",
   "metadata": {},
   "outputs": [
    {
     "data": {
      "text/plain": [
       "array([[6, 9, 6, 1, 1, 2, 8, 7, 3, 5],\n",
       "       [6, 3, 5, 3, 5, 8, 8, 2, 8, 1],\n",
       "       [7, 8, 7, 2, 1, 2, 9, 9, 4, 9],\n",
       "       [8, 4, 7, 6, 2, 4, 5, 9, 2, 5],\n",
       "       [1, 4, 3, 1, 5, 3, 8, 8, 9, 7],\n",
       "       [4, 8, 8, 5, 6, 4, 7, 9, 1, 3],\n",
       "       [8, 8, 8, 4, 1, 9, 8, 8, 2, 2],\n",
       "       [4, 1, 9, 7, 5, 6, 7, 3, 6, 8],\n",
       "       [9, 5, 5, 8, 8, 5, 1, 3, 1, 8],\n",
       "       [2, 8, 9, 5, 1, 2, 9, 3, 4, 2]])"
      ]
     },
     "execution_count": 6,
     "metadata": {},
     "output_type": "execute_result"
    }
   ],
   "source": [
    "np.random.seed(1)\n",
    "sk=np.random.randint(1,10,(10,10))\n",
    "sk"
   ]
  },
  {
   "cell_type": "code",
   "execution_count": 7,
   "id": "340e816a",
   "metadata": {},
   "outputs": [
    {
     "data": {
      "text/plain": [
       "1"
      ]
     },
     "execution_count": 7,
     "metadata": {},
     "output_type": "execute_result"
    }
   ],
   "source": [
    "sk.min()"
   ]
  },
  {
   "cell_type": "code",
   "execution_count": 8,
   "id": "64345ea2",
   "metadata": {},
   "outputs": [
    {
     "data": {
      "text/plain": [
       "9"
      ]
     },
     "execution_count": 8,
     "metadata": {},
     "output_type": "execute_result"
    }
   ],
   "source": [
    "sk.max()"
   ]
  },
  {
   "cell_type": "code",
   "execution_count": null,
   "id": "19f35a49",
   "metadata": {},
   "outputs": [],
   "source": []
  }
 ],
 "metadata": {
  "kernelspec": {
   "display_name": "Python 3",
   "language": "python",
   "name": "python3"
  },
  "language_info": {
   "codemirror_mode": {
    "name": "ipython",
    "version": 3
   },
   "file_extension": ".py",
   "mimetype": "text/x-python",
   "name": "python",
   "nbconvert_exporter": "python",
   "pygments_lexer": "ipython3",
   "version": "3.9.5"
  }
 },
 "nbformat": 4,
 "nbformat_minor": 5
}
