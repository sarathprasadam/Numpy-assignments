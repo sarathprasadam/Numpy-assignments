{
 "cells": [
  {
   "cell_type": "markdown",
   "id": "af594532",
   "metadata": {},
   "source": [
    "# Use numpy to generate array of 25 random numbers sampled from a standard normal distribution"
   ]
  },
  {
   "cell_type": "code",
   "execution_count": 1,
   "id": "ebdca90e",
   "metadata": {},
   "outputs": [],
   "source": [
    "import numpy as np"
   ]
  },
  {
   "cell_type": "code",
   "execution_count": 6,
   "id": "2597a3f9",
   "metadata": {},
   "outputs": [
    {
     "data": {
      "text/plain": [
       "array([0.72876815, 0.54454974, 0.10194996, 0.71016897, 0.63812548,\n",
       "       0.2529185 , 0.1875244 , 0.56136136, 0.06337455, 0.46689389,\n",
       "       0.85347712, 0.70195888, 0.89437142, 0.07433945, 0.10768025,\n",
       "       0.93529393, 0.22816694, 0.91333956, 0.65352085, 0.20504666,\n",
       "       0.87117916, 0.46750359, 0.26799679, 0.27463679, 0.63541423])"
      ]
     },
     "execution_count": 6,
     "metadata": {},
     "output_type": "execute_result"
    }
   ],
   "source": [
    "sk=np.random.rand(25)\n",
    "sk"
   ]
  },
  {
   "cell_type": "code",
   "execution_count": null,
   "id": "8d982517",
   "metadata": {},
   "outputs": [],
   "source": []
  }
 ],
 "metadata": {
  "kernelspec": {
   "display_name": "Python 3",
   "language": "python",
   "name": "python3"
  },
  "language_info": {
   "codemirror_mode": {
    "name": "ipython",
    "version": 3
   },
   "file_extension": ".py",
   "mimetype": "text/x-python",
   "name": "python",
   "nbconvert_exporter": "python",
   "pygments_lexer": "ipython3",
   "version": "3.9.5"
  }
 },
 "nbformat": 4,
 "nbformat_minor": 5
}
