{
 "cells": [
  {
   "cell_type": "code",
   "execution_count": 2,
   "id": "71c67d0c",
   "metadata": {},
   "outputs": [],
   "source": [
    "import numpy as np"
   ]
  },
  {
   "cell_type": "markdown",
   "id": "7ee58d57",
   "metadata": {},
   "source": [
    "# Create a random vector of size 30 and find the mean value."
   ]
  },
  {
   "cell_type": "code",
   "execution_count": 3,
   "id": "474037f2",
   "metadata": {},
   "outputs": [
    {
     "data": {
      "text/plain": [
       "array([[6, 8, 7, 9, 6, 5],\n",
       "       [6, 7, 8, 9, 9, 7],\n",
       "       [7, 8, 5, 7, 9, 5],\n",
       "       [9, 8, 7, 9, 9, 5],\n",
       "       [9, 8, 8, 7, 7, 5]])"
      ]
     },
     "execution_count": 3,
     "metadata": {},
     "output_type": "execute_result"
    }
   ],
   "source": [
    "sk=np.random.randint(5,10,(5,6))\n",
    "sk"
   ]
  },
  {
   "cell_type": "code",
   "execution_count": 5,
   "id": "777473a1",
   "metadata": {},
   "outputs": [
    {
     "data": {
      "text/plain": [
       "7.3"
      ]
     },
     "execution_count": 5,
     "metadata": {},
     "output_type": "execute_result"
    }
   ],
   "source": [
    "np.mean(sk)"
   ]
  },
  {
   "cell_type": "code",
   "execution_count": null,
   "id": "8a9a5aec",
   "metadata": {},
   "outputs": [],
   "source": []
  }
 ],
 "metadata": {
  "kernelspec": {
   "display_name": "Python 3",
   "language": "python",
   "name": "python3"
  },
  "language_info": {
   "codemirror_mode": {
    "name": "ipython",
    "version": 3
   },
   "file_extension": ".py",
   "mimetype": "text/x-python",
   "name": "python",
   "nbconvert_exporter": "python",
   "pygments_lexer": "ipython3",
   "version": "3.9.5"
  }
 },
 "nbformat": 4,
 "nbformat_minor": 5
}
